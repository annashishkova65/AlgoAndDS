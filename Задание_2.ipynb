{
  "nbformat": 4,
  "nbformat_minor": 0,
  "metadata": {
    "colab": {
      "provenance": [],
      "collapsed_sections": []
    },
    "kernelspec": {
      "name": "python3",
      "display_name": "Python 3"
    },
    "language_info": {
      "name": "python"
    }
  },
  "cells": [
    {
      "cell_type": "markdown",
      "source": [
        "На вход подается строка, состоящая из одного числа. Напишите программу, которая удваивает его."
      ],
      "metadata": {
        "id": "BPv5S1tGegvQ"
      }
    },
    {
      "cell_type": "code",
      "source": [
        "a = int(input())\n",
        "print(a*2)"
      ],
      "metadata": {
        "colab": {
          "base_uri": "https://localhost:8080/"
        },
        "id": "9ZNBgy36ei7Y",
        "outputId": "b73e7055-0c4b-462c-9c85-99a5c3c87a04"
      },
      "execution_count": 1,
      "outputs": [
        {
          "output_type": "stream",
          "name": "stdout",
          "text": [
            "646\n",
            "1292\n"
          ]
        }
      ]
    },
    {
      "cell_type": "markdown",
      "source": [
        "Вводится число. Вывести его квадрат."
      ],
      "metadata": {
        "id": "8gvh8jVRfoAE"
      }
    },
    {
      "cell_type": "code",
      "source": [
        "a = int(input())\n",
        "print(a**2)"
      ],
      "metadata": {
        "colab": {
          "base_uri": "https://localhost:8080/"
        },
        "id": "lvJvkzq1fnfk",
        "outputId": "eb4777f2-a4f4-4e0d-c555-2b5f122ef188"
      },
      "execution_count": 2,
      "outputs": [
        {
          "output_type": "stream",
          "name": "stdout",
          "text": [
            "23\n",
            "529\n"
          ]
        }
      ]
    },
    {
      "cell_type": "markdown",
      "source": [
        "Вводятся часы, минуты и секунды. Вывести, сколько секунд прошло с полуночи.\n",
        "Вывести, какая часть суток прошла (число от 0 до 1)."
      ],
      "metadata": {
        "id": "6L1bszzlfpIc"
      }
    },
    {
      "cell_type": "code",
      "source": [
        "hour = int(input())\n",
        "minutes = int(input())\n",
        "seconds = int(input())\n",
        "total_seconds = hour * (60 ** 2) + minutes * 60 + seconds\n",
        "day_part = total_seconds / (24 * (60 ** 2))\n",
        "print(total_seconds)\n",
        "print(day_part)"
      ],
      "metadata": {
        "colab": {
          "base_uri": "https://localhost:8080/"
        },
        "id": "0YVa7tLzfuQ1",
        "outputId": "75d6c846-10da-4914-cfe8-77ad2ec28776"
      },
      "execution_count": 13,
      "outputs": [
        {
          "output_type": "stream",
          "name": "stdout",
          "text": [
            "19\n",
            "34\n",
            "5\n",
            "70445\n",
            "0.8153356481481482\n"
          ]
        }
      ]
    },
    {
      "cell_type": "markdown",
      "source": [
        "Вводится число. Вывести, оканчивается ли оно на цифру 7, не используя приведение к строке и операции над строками"
      ],
      "metadata": {
        "id": "I4fyAFzufvaF"
      }
    },
    {
      "cell_type": "code",
      "source": [
        "a = int(input())\n",
        "if a % 10 == 7:\n",
        "  print(\"TRUE\")\n",
        "else:\n",
        "  print(\"FALSE\")"
      ],
      "metadata": {
        "colab": {
          "base_uri": "https://localhost:8080/"
        },
        "id": "olgfza4Rf1U1",
        "outputId": "d7a2b5f2-4e30-455b-d5bc-7233af46c597"
      },
      "execution_count": 7,
      "outputs": [
        {
          "output_type": "stream",
          "name": "stdout",
          "text": [
            "29397\n",
            "TRUE\n"
          ]
        }
      ]
    },
    {
      "cell_type": "markdown",
      "source": [
        "Вводятся коэффициенты уравнения ax2+bx+c=0. Вывести его корни(не забыть проверить, что a не равно 0)"
      ],
      "metadata": {
        "id": "N4hEXx3if2a1"
      }
    },
    {
      "cell_type": "code",
      "source": [
        "a = int(input())\n",
        "b = int(input())\n",
        "c = int(input())6\n",
        "\n",
        "if a == 0:\n",
        "  print(-(c / b))\n",
        "else:\n",
        "  discriminant = b ** 2 - 4 * a * c\n",
        "  if discriminant < 0:\n",
        "    print(\"нет корней\")\n",
        "  if discriminant == 0:\n",
        "    print(-b / (2 * a))\n",
        "  if discriminant > 0:\n",
        "    x1 = (-b + (discriminant ** 0.5)) / (2 * a)\n",
        "    x2 = (-b - (discriminant ** 0.5)) / (2 * a)\n",
        "    print(x1, \"и\", x2)"
      ],
      "metadata": {
        "colab": {
          "base_uri": "https://localhost:8080/"
        },
        "id": "RTiAz8SWf5wt",
        "outputId": "b96b4e55-2eb9-48c0-c2dc-e88df875913d"
      },
      "execution_count": 23,
      "outputs": [
        {
          "output_type": "stream",
          "name": "stdout",
          "text": [
            "0\n",
            "3\n",
            "5\n",
            "-1.6666666666666667\n"
          ]
        }
      ]
    },
    {
      "cell_type": "markdown",
      "source": [
        "Вводятся три числа. Вывести максимум из них.0"
      ],
      "metadata": {
        "id": "XiTBW6Ghf6Il"
      }
    },
    {
      "cell_type": "code",
      "source": [
        "a = int(input())\n",
        "b = int(input())\n",
        "c = int(input())\n",
        "max_n = a\n",
        "if b > max_n:\n",
        "  max_n = b\n",
        "if c > max_n:\n",
        "  max_n = c\n",
        "print(max_n)\n",
        "\n"
      ],
      "metadata": {
        "colab": {
          "base_uri": "https://localhost:8080/"
        },
        "id": "AYv2GT0Bf-mu",
        "outputId": "28c8fcc8-8eb4-4463-af92-ae013116a1f7"
      },
      "execution_count": 10,
      "outputs": [
        {
          "output_type": "stream",
          "name": "stdout",
          "text": [
            "4\n",
            "14\n",
            "5\n",
            "14\n"
          ]
        }
      ]
    },
    {
      "cell_type": "markdown",
      "source": [
        "Вводится число. Вывести среднее арифметическое (с точностью до двух знаков после запятой) тех чисел в диапазоне от единицы до введённого числа, которые делятся 5 или являются четными."
      ],
      "metadata": {
        "id": "Om4_UQ_9f-6V"
      }
    },
    {
      "cell_type": "code",
      "source": [],
      "metadata": {
        "id": "p-Nwa7ZQgCvl"
      },
      "execution_count": 25,
      "outputs": []
    },
    {
      "cell_type": "code",
      "source": [],
      "metadata": {
        "id": "i4A_Y8_cvMPM"
      },
      "execution_count": null,
      "outputs": []
    }
  ]
}