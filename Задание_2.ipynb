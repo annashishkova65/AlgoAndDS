{
  "nbformat": 4,
  "nbformat_minor": 0,
  "metadata": {
    "colab": {
      "provenance": [],
      "collapsed_sections": []
    },
    "kernelspec": {
      "name": "python3",
      "display_name": "Python 3"
    },
    "language_info": {
      "name": "python"
    }
  },
  "cells": [
    {
      "cell_type": "markdown",
      "source": [
        "На вход подается строка, состоящая из одного числа. Напишите программу, которая удваивает его."
      ],
      "metadata": {
        "id": "BPv5S1tGegvQ"
      }
    },
    {
      "cell_type": "code",
      "source": [
        "a = int(input())\n",
        "print(a*2)"
      ],
      "metadata": {
        "colab": {
          "base_uri": "https://localhost:8080/"
        },
        "id": "9ZNBgy36ei7Y",
        "outputId": "b73e7055-0c4b-462c-9c85-99a5c3c87a04"
      },
      "execution_count": null,
      "outputs": [
        {
          "output_type": "stream",
          "name": "stdout",
          "text": [
            "646\n",
            "1292\n"
          ]
        }
      ]
    },
    {
      "cell_type": "markdown",
      "source": [
        "Вводится число. Вывести его квадрат."
      ],
      "metadata": {
        "id": "8gvh8jVRfoAE"
      }
    },
    {
      "cell_type": "code",
      "source": [
        "a = int(input())\n",
        "print(a**2)"
      ],
      "metadata": {
        "colab": {
          "base_uri": "https://localhost:8080/"
        },
        "id": "lvJvkzq1fnfk",
        "outputId": "eb4777f2-a4f4-4e0d-c555-2b5f122ef188"
      },
      "execution_count": null,
      "outputs": [
        {
          "output_type": "stream",
          "name": "stdout",
          "text": [
            "23\n",
            "529\n"
          ]
        }
      ]
    },
    {
      "cell_type": "markdown",
      "source": [
        "Вводятся часы, минуты и секунды. Вывести, сколько секунд прошло с полуночи.\n",
        "Вывести, какая часть суток прошла (число от 0 до 1)."
      ],
      "metadata": {
        "id": "6L1bszzlfpIc"
      }
    },
    {
      "cell_type": "code",
      "source": [
        "hour = int(input())\n",
        "minutes = int(input())\n",
        "seconds = int(input())\n",
        "total_seconds = hour * (60 ** 2) + minutes * 60 + seconds\n",
        "day_part = total_seconds / (24 * (60 ** 2))\n",
        "print(total_seconds)\n",
        "print(round(day_part, 4))"
      ],
      "metadata": {
        "colab": {
          "base_uri": "https://localhost:8080/"
        },
        "id": "0YVa7tLzfuQ1",
        "outputId": "26301b4a-ef8d-4fc3-92c1-407e192f16c0"
      },
      "execution_count": 19,
      "outputs": [
        {
          "output_type": "stream",
          "name": "stdout",
          "text": [
            "19\n",
            "54\n",
            "12\n",
            "71652\n",
            "0.8293\n"
          ]
        }
      ]
    },
    {
      "cell_type": "markdown",
      "source": [
        "Вводится число. Вывести, оканчивается ли оно на цифру 7, не используя приведение к строке и операции над строками"
      ],
      "metadata": {
        "id": "I4fyAFzufvaF"
      }
    },
    {
      "cell_type": "code",
      "source": [
        "a = int(input())\n",
        "if a % 10 == 7:\n",
        "  print(\"TRUE\")\n",
        "else:\n",
        "  print(\"FALSE\")"
      ],
      "metadata": {
        "colab": {
          "base_uri": "https://localhost:8080/"
        },
        "id": "olgfza4Rf1U1",
        "outputId": "d7a2b5f2-4e30-455b-d5bc-7233af46c597"
      },
      "execution_count": null,
      "outputs": [
        {
          "output_type": "stream",
          "name": "stdout",
          "text": [
            "29397\n",
            "TRUE\n"
          ]
        }
      ]
    },
    {
      "cell_type": "markdown",
      "source": [
        "Вводятся коэффициенты уравнения ax2+bx+c=0. Вывести его корни(не забыть проверить, что a не равно 0)"
      ],
      "metadata": {
        "id": "N4hEXx3if2a1"
      }
    },
    {
      "cell_type": "code",
      "source": [
        "a = int(input())\n",
        "b = int(input())\n",
        "c = int(input())\n",
        "\n",
        "if a == 0:\n",
        "  if b == 0:\n",
        "    if c == 0:\n",
        "      print(\"вся числовая ось\")\n",
        "    else:\n",
        "      print(\"нет корней\")\n",
        "  else:\n",
        "    print(round(-(c / b), 4))\n",
        "else:\n",
        "  discriminant = b ** 2 - 4 * a * c\n",
        "  if discriminant < 0:\n",
        "    print(\"нет корней\")\n",
        "  if discriminant == 0:\n",
        "    print(round(-b / (2 * a), 4))\n",
        "  if discriminant > 0:\n",
        "    x1 = round((-b + (discriminant ** 0.5)) / (2 * a), 4)\n",
        "    x2 = round((-b - (discriminant ** 0.5)) / (2 * a), 4)\n",
        "    print(x1, \"и\", x2)\n"
      ],
      "metadata": {
        "colab": {
          "base_uri": "https://localhost:8080/"
        },
        "id": "lCNbh63lhjSv",
        "outputId": "ddb14900-fd8b-4157-e281-4ece64578147"
      },
      "execution_count": 8,
      "outputs": [
        {
          "output_type": "stream",
          "name": "stdout",
          "text": [
            "16\n",
            "4\n",
            "-26\n",
            "1.1559 и -1.4059\n"
          ]
        }
      ]
    },
    {
      "cell_type": "markdown",
      "source": [
        "0Вводятся три числа. Вывести максимум из них.0"
      ],
      "metadata": {
        "id": "XiTBW6Ghf6Il"
      }
    },
    {
      "cell_type": "code",
      "source": [
        "a = int(input())\n",
        "b = int(input())\n",
        "c = int(input())\n",
        "max_n = a\n",
        "if b > max_n:\n",
        "  max_n = b\n",
        "if c > max_n:\n",
        "  max_n = c\n",
        "print(max_n)\n",
        "\n"
      ],
      "metadata": {
        "colab": {
          "base_uri": "https://localhost:8080/"
        },
        "id": "AYv2GT0Bf-mu",
        "outputId": "28c8fcc8-8eb4-4463-af92-ae013116a1f7"
      },
      "execution_count": null,
      "outputs": [
        {
          "output_type": "stream",
          "name": "stdout",
          "text": [
            "4\n",
            "14\n",
            "5\n",
            "14\n"
          ]
        }
      ]
    },
    {
      "cell_type": "markdown",
      "source": [],
      "metadata": {
        "id": "zmKmoCSqfJNu"
      }
    },
    {
      "cell_type": "markdown",
      "source": [
        "Вводится число. Вывести среднее арифметическое (с точностью до двух знаков после запятой) тех чисел в диапазоне от единицы до введённого числа, которые делятся 5 или являются четными."
      ],
      "metadata": {
        "id": "Om4_UQ_9f-6V"
      }
    },
    {
      "cell_type": "code",
      "source": [
        "a = int(input())\n",
        "num_div2 = a // 2\n",
        "num_div5 = a // 5\n",
        "num_div10 = a // 10\n",
        "all_num = num_div2 + num_div5 - num_div10\n",
        "sum_div2 = (2 + (a // 2 * 2)) * num_div2 / 2\n",
        "sum_div5 = (5 + (a // 5 * 5)) * num_div5 / 2\n",
        "sum_div10 = (10 + (a // 10 * 10)) * num_div10 / 2\n",
        "all_sum = sum_div2 + sum_div5 - sum_div10\n",
        "print(round(all_sum / all_num, 2))"
      ],
      "metadata": {
        "id": "p-Nwa7ZQgCvl",
        "colab": {
          "base_uri": "https://localhost:8080/"
        },
        "outputId": "24bfb6a1-027f-4155-f11f-c9112552a068"
      },
      "execution_count": 14,
      "outputs": [
        {
          "output_type": "stream",
          "name": "stdout",
          "text": [
            "10\n",
            "5.83\n"
          ]
        }
      ]
    },
    {
      "cell_type": "code",
      "source": [],
      "metadata": {
        "id": "9SlDdEqOsUdF"
      },
      "execution_count": null,
      "outputs": []
    }
  ]
}
