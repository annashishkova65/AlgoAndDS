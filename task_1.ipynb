{
  "nbformat": 4,
  "nbformat_minor": 0,
  "metadata": {
    "colab": {
      "provenance": [],
      "collapsed_sections": []
    },
    "kernelspec": {
      "name": "python3",
      "display_name": "Python 3"
    },
    "language_info": {
      "name": "python"
    }
  },
  "cells": [
    {
      "cell_type": "markdown",
      "source": [
        "Задана строка. Необходимо посчитать количество символов"
      ],
      "metadata": {
        "id": "WNuDMHGB6RKj"
      }
    },
    {
      "cell_type": "code",
      "execution_count": 1,
      "metadata": {
        "id": "uGPW8h-85NUn",
        "colab": {
          "base_uri": "https://localhost:8080/"
        },
        "outputId": "dc6fc618-57f2-40a7-d8ee-9a370b3a65fb"
      },
      "outputs": [
        {
          "output_type": "stream",
          "name": "stdout",
          "text": [
            "12\n"
          ]
        }
      ],
      "source": [
        "string = \"Hello world!\"\n",
        "print(len(string))"
      ]
    },
    {
      "cell_type": "markdown",
      "source": [
        "Измените порядок символов в строке на обратный."
      ],
      "metadata": {
        "id": "T23AdLfk6vzN"
      }
    },
    {
      "cell_type": "code",
      "source": [
        "string = \"Hello world!\"\n",
        "print(string[::-1])"
      ],
      "metadata": {
        "colab": {
          "base_uri": "https://localhost:8080/"
        },
        "id": "FhvucM7H6s0x",
        "outputId": "f848943c-751f-4dd4-b066-f1390d83444e"
      },
      "execution_count": 2,
      "outputs": [
        {
          "output_type": "stream",
          "name": "stdout",
          "text": [
            "!dlrow olleH\n"
          ]
        }
      ]
    },
    {
      "cell_type": "markdown",
      "source": [
        "Найдите подстроку, заключенную в двойных кавычках в строке."
      ],
      "metadata": {
        "id": "O5e8M7Sz7K3_"
      }
    },
    {
      "cell_type": "code",
      "source": [
        "string = 'Hello \"world\"!'\n",
        "print(string[string.find('\"') + 1:string.rfind('\"')])\n"
      ],
      "metadata": {
        "colab": {
          "base_uri": "https://localhost:8080/"
        },
        "id": "sUjqI4on7LYZ",
        "outputId": "6d45ddfc-799d-4484-8e78-87bab746729b"
      },
      "execution_count": 3,
      "outputs": [
        {
          "output_type": "stream",
          "name": "stdout",
          "text": [
            "world\n"
          ]
        }
      ]
    },
    {
      "cell_type": "markdown",
      "source": [
        "В строке записаны два числа, разделенные пробелом. Поменяйте их местами и напечатайте результат."
      ],
      "metadata": {
        "id": "7tL-FrBd7_vz"
      }
    },
    {
      "cell_type": "code",
      "source": [
        "string = \"23 456\"\n",
        "space = string.find(\" \")\n",
        "print(string[space + 1:], string[:space])"
      ],
      "metadata": {
        "colab": {
          "base_uri": "https://localhost:8080/"
        },
        "id": "8xdcuepR8ALk",
        "outputId": "75dcfa18-3c30-4cd4-cb41-b7a9f81e6fd4"
      },
      "execution_count": 4,
      "outputs": [
        {
          "output_type": "stream",
          "name": "stdout",
          "text": [
            "456 23\n"
          ]
        }
      ]
    },
    {
      "cell_type": "markdown",
      "source": [
        "Из почтового адреса нужно достать логин"
      ],
      "metadata": {
        "id": "dzDV34kj9gyR"
      }
    },
    {
      "cell_type": "code",
      "source": [
        "string = \"ivan@lenta.ru\"\n",
        "print(string[:string.find(\"@\")])\n"
      ],
      "metadata": {
        "colab": {
          "base_uri": "https://localhost:8080/"
        },
        "id": "cwv6lGb78qkq",
        "outputId": "372a27cd-555b-46ad-d232-fe0fe8386ec8"
      },
      "execution_count": 5,
      "outputs": [
        {
          "output_type": "stream",
          "name": "stdout",
          "text": [
            "ivan\n"
          ]
        }
      ]
    },
    {
      "cell_type": "markdown",
      "source": [
        "Человек вводит на сайте номер телефона, ему позволено для удобства использовать кроме плюса и цифр знаки ‘-’, ‘)’, ‘(’ и пробелы. Уберите их из ввода."
      ],
      "metadata": {
        "id": "bobAHgPq95io"
      }
    },
    {
      "cell_type": "code",
      "source": [
        "string = \"7(495) 234-56-78\"\n",
        "string = string.replace(\"(\", \"\").replace(\")\", \"\").replace(\"-\", \"\").replace(\" \", \"\")\n",
        "print(string)"
      ],
      "metadata": {
        "colab": {
          "base_uri": "https://localhost:8080/"
        },
        "id": "W-zPqmKK93Bu",
        "outputId": "473ee982-bfad-4d64-a031-22673b6a6176"
      },
      "execution_count": 6,
      "outputs": [
        {
          "output_type": "stream",
          "name": "stdout",
          "text": [
            "74952345678\n"
          ]
        }
      ]
    },
    {
      "cell_type": "markdown",
      "source": [
        "Вводится строка. Разделитель слов – пробел. Вывести все слова (на отдельных строках)."
      ],
      "metadata": {
        "id": "9g457sEvAY0h"
      }
    },
    {
      "cell_type": "code",
      "source": [
        "string = \"Hello big world!\"\n",
        "print(string.replace(\" \", \"\\n\"))"
      ],
      "metadata": {
        "colab": {
          "base_uri": "https://localhost:8080/"
        },
        "id": "CErN-lrA_M0u",
        "outputId": "dce9783e-8042-4c60-a6ae-b984b0d0f497"
      },
      "execution_count": 7,
      "outputs": [
        {
          "output_type": "stream",
          "name": "stdout",
          "text": [
            "Hello\n",
            "big\n",
            "world!\n"
          ]
        }
      ]
    },
    {
      "cell_type": "markdown",
      "source": [
        "Вам дана строка, состоящая только из букв английского алфавита и пробелов. Напишите программу, которая определит, является ли строка палиндромом."
      ],
      "metadata": {
        "id": "rYPJwoX4DHcd"
      }
    },
    {
      "cell_type": "code",
      "source": [
        "string = \"qwerty454ytrewq\"\n",
        "string2 = string[::-1]\n",
        "if string == string2:\n",
        "  print(\"yes\")\n",
        "else:\n",
        "  print(\"no\")"
      ],
      "metadata": {
        "colab": {
          "base_uri": "https://localhost:8080/"
        },
        "id": "X5wt_1wLBvsg",
        "outputId": "094536d2-e3bf-419a-aefd-fd0d642cf7e5"
      },
      "execution_count": 8,
      "outputs": [
        {
          "output_type": "stream",
          "name": "stdout",
          "text": [
            "yes\n"
          ]
        }
      ]
    }
  ]
}