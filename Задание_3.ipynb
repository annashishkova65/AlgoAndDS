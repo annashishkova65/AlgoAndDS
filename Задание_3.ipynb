{
  "nbformat": 4,
  "nbformat_minor": 0,
  "metadata": {
    "colab": {
      "provenance": [],
      "collapsed_sections": []
    },
    "kernelspec": {
      "name": "python3",
      "display_name": "Python 3"
    },
    "language_info": {
      "name": "python"
    }
  },
  "cells": [
    {
      "cell_type": "markdown",
      "source": [
        "Вводится вектор. Вывести максимум из его элементов."
      ],
      "metadata": {
        "id": "eS-wUn-zhlz9"
      }
    },
    {
      "cell_type": "code",
      "source": [
        "s = input()\n",
        "l = [int(x) for x in s.split()]\n",
        "print(max(l))"
      ],
      "metadata": {
        "colab": {
          "base_uri": "https://localhost:8080/"
        },
        "id": "LAVIzNOcgzq9",
        "outputId": "4b6932c4-2906-4b3b-8efe-8c807ea7cffb"
      },
      "execution_count": 3,
      "outputs": [
        {
          "output_type": "stream",
          "name": "stdout",
          "text": [
            "6 64 89 222 13 62 5\n",
            "222\n"
          ]
        }
      ]
    },
    {
      "cell_type": "markdown",
      "source": [
        "Вводится вектор. Заменить в нём каждое число Фибоначчи на следующее."
      ],
      "metadata": {
        "id": "xQ6ftxD0g0SH"
      }
    },
    {
      "cell_type": "code",
      "source": [
        "s = input()\n",
        "l = [int(x) for x in s.split()]\n",
        "d = {1: 2}\n",
        "d_key = 1\n",
        "d_value = 2\n",
        "while d_value <= max(l):\n",
        "  d[d_value] = d_key + d_value\n",
        "  d_key, d_value = d_value, d_key + d_value \n",
        "for i in range(len(l)):\n",
        "  if l[i] in d:\n",
        "    l[i] = d[l[i]]\n",
        "print(*l)"
      ],
      "metadata": {
        "id": "0s-ECS1Cg5k9",
        "colab": {
          "base_uri": "https://localhost:8080/"
        },
        "outputId": "0adbeec4-d143-4567-e149-2a26c0f1d75b"
      },
      "execution_count": 4,
      "outputs": [
        {
          "output_type": "stream",
          "name": "stdout",
          "text": [
            "6 64 89 222 13 62 5\n",
            "6 64 144 222 21 62 8\n"
          ]
        }
      ]
    },
    {
      "cell_type": "markdown",
      "source": [
        "Напишите программу, которая помогает определить какие вещи могут поместиться в рюкзак. Вводится существующий объем рюкзака. Затем вводятся объемы всех вещей, которые хочется туда поместить. Нужно вывести список объемов вещей, которые поместятся в рюкзак. Постарайтесь максимизировать кол-во вошедших вещей."
      ],
      "metadata": {
        "id": "EhqCQKTcg6FF"
      }
    },
    {
      "cell_type": "code",
      "source": [
        "def knapsack(volume, l):\n",
        "  l.sort()\n",
        "  all_sum = 0\n",
        "  for i in range(len(l)):\n",
        "    if all_sum + l[i] <= volume:\n",
        "      all_sum += l[i]\n",
        "    else:\n",
        "      return l[:i]\n",
        "  return l\n",
        "\n",
        "volume = int(input())\n",
        "s = input()\n",
        "l = [int(x) for x in s.split()]\n",
        "print(*knapsack(volume, l))"
      ],
      "metadata": {
        "colab": {
          "base_uri": "https://localhost:8080/"
        },
        "id": "BbioxPyMvubZ",
        "outputId": "6c45d42d-2d55-4e0a-9a7b-7ef8dfe5cb72"
      },
      "execution_count": 5,
      "outputs": [
        {
          "output_type": "stream",
          "name": "stdout",
          "text": [
            "20\n",
            "2 4 8 12 16\n",
            "2 4 8\n"
          ]
        }
      ]
    },
    {
      "cell_type": "markdown",
      "source": [
        "Данные об email-адресах студентов хранятся в словаре: {домен:логины}. Нужно дополнить код таким образом, чтобы он вывел все адреса в алфавитном порядке и в формате имя_пользователя@домен"
      ],
      "metadata": {
        "id": "clHJ0CPwhotl"
      }
    },
    {
      "cell_type": "code",
      "source": [
        "d = {\"rea.ru\": [\"misha\", \"pasha\"], \"study.com\": [\"olga\", \"nastya\", \"igor\"]}\n",
        "l = []\n",
        "for key in d:\n",
        "  for name in d[key]:\n",
        "    l.append(name + \"@\" + key)\n",
        "print(*sorted(l), sep = \"\\n\")"
      ],
      "metadata": {
        "id": "aH5XJxcKBbil",
        "colab": {
          "base_uri": "https://localhost:8080/"
        },
        "outputId": "887ab3d4-5cae-4c0f-abde-5d9fd8699817"
      },
      "execution_count": 6,
      "outputs": [
        {
          "output_type": "stream",
          "name": "stdout",
          "text": [
            "igor@study.com\n",
            "misha@rea.ru\n",
            "nastya@study.com\n",
            "olga@study.com\n",
            "pasha@rea.ru\n"
          ]
        }
      ]
    },
    {
      "cell_type": "code",
      "source": [],
      "metadata": {
        "id": "Neiv_AWvq5cY"
      },
      "execution_count": null,
      "outputs": []
    }
  ]
}